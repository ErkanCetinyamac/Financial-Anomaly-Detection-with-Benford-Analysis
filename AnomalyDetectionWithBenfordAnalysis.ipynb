{
 "cells": [
  {
   "cell_type": "code",
   "execution_count": 1,
   "metadata": {},
   "outputs": [],
   "source": [
    "#title: \"Financial anomaly detection with benford law\"\n",
    "\n",
    "#author: Erkan Çetinyamaç "
   ]
  },
  {
   "cell_type": "markdown",
   "metadata": {},
   "source": [
    "Veri Seti  IEEE-CIS tarafından oluşturulmuş bir sentetik data setidir. Fraud Detection problemleri üzerinde araştırma yapılması için oluşturulmuş bir data settir.\n",
    "\n",
    "Link: https://www.kaggle.com/c/ieee-fraud-detection/data"
   ]
  },
  {
   "cell_type": "code",
   "execution_count": 2,
   "metadata": {},
   "outputs": [
    {
     "name": "stderr",
     "output_type": "stream",
     "text": [
      "\n",
      "Attaching package: 'dplyr'\n",
      "\n",
      "\n",
      "The following objects are masked from 'package:plyr':\n",
      "\n",
      "    arrange, count, desc, failwith, id, mutate, rename, summarise,\n",
      "    summarize\n",
      "\n",
      "\n",
      "The following objects are masked from 'package:stats':\n",
      "\n",
      "    filter, lag\n",
      "\n",
      "\n",
      "The following objects are masked from 'package:base':\n",
      "\n",
      "    intersect, setdiff, setequal, union\n",
      "\n",
      "\n",
      "-- \u001b[1mAttaching packages\u001b[22m ------------------------------------------------------------------------------- tidyverse 1.3.0 --\n",
      "\n",
      "\u001b[32m<U+221A>\u001b[39m \u001b[34mtibble \u001b[39m 3.0.4     \u001b[32m<U+221A>\u001b[39m \u001b[34mpurrr  \u001b[39m 0.3.4\n",
      "\u001b[32m<U+221A>\u001b[39m \u001b[34mtidyr  \u001b[39m 1.1.2     \u001b[32m<U+221A>\u001b[39m \u001b[34mstringr\u001b[39m 1.4.0\n",
      "\u001b[32m<U+221A>\u001b[39m \u001b[34mreadr  \u001b[39m 1.4.0     \u001b[32m<U+221A>\u001b[39m \u001b[34mforcats\u001b[39m 0.5.0\n",
      "\n",
      "-- \u001b[1mConflicts\u001b[22m ---------------------------------------------------------------------------------- tidyverse_conflicts() --\n",
      "\u001b[31mx\u001b[39m \u001b[34mdplyr\u001b[39m::\u001b[32marrange()\u001b[39m   masks \u001b[34mplyr\u001b[39m::arrange()\n",
      "\u001b[31mx\u001b[39m \u001b[34mpurrr\u001b[39m::\u001b[32mcompact()\u001b[39m   masks \u001b[34mplyr\u001b[39m::compact()\n",
      "\u001b[31mx\u001b[39m \u001b[34mdplyr\u001b[39m::\u001b[32mcount()\u001b[39m     masks \u001b[34mplyr\u001b[39m::count()\n",
      "\u001b[31mx\u001b[39m \u001b[34mdplyr\u001b[39m::\u001b[32mfailwith()\u001b[39m  masks \u001b[34mplyr\u001b[39m::failwith()\n",
      "\u001b[31mx\u001b[39m \u001b[34mdplyr\u001b[39m::\u001b[32mfilter()\u001b[39m    masks \u001b[34mstats\u001b[39m::filter()\n",
      "\u001b[31mx\u001b[39m \u001b[34mdplyr\u001b[39m::\u001b[32mid()\u001b[39m        masks \u001b[34mplyr\u001b[39m::id()\n",
      "\u001b[31mx\u001b[39m \u001b[34mdplyr\u001b[39m::\u001b[32mlag()\u001b[39m       masks \u001b[34mstats\u001b[39m::lag()\n",
      "\u001b[31mx\u001b[39m \u001b[34mdplyr\u001b[39m::\u001b[32mmutate()\u001b[39m    masks \u001b[34mplyr\u001b[39m::mutate()\n",
      "\u001b[31mx\u001b[39m \u001b[34mdplyr\u001b[39m::\u001b[32mrename()\u001b[39m    masks \u001b[34mplyr\u001b[39m::rename()\n",
      "\u001b[31mx\u001b[39m \u001b[34mdplyr\u001b[39m::\u001b[32msummarise()\u001b[39m masks \u001b[34mplyr\u001b[39m::summarise()\n",
      "\u001b[31mx\u001b[39m \u001b[34mdplyr\u001b[39m::\u001b[32msummarize()\u001b[39m masks \u001b[34mplyr\u001b[39m::summarize()\n",
      "\n",
      "Loading required package: Hmisc\n",
      "\n",
      "Loading required package: lattice\n",
      "\n",
      "Loading required package: survival\n",
      "\n",
      "Loading required package: Formula\n",
      "\n",
      "\n",
      "Attaching package: 'Hmisc'\n",
      "\n",
      "\n",
      "The following objects are masked from 'package:dplyr':\n",
      "\n",
      "    src, summarize\n",
      "\n",
      "\n",
      "The following objects are masked from 'package:plyr':\n",
      "\n",
      "    is.discrete, summarize\n",
      "\n",
      "\n",
      "The following objects are masked from 'package:base':\n",
      "\n",
      "    format.pval, units\n",
      "\n",
      "\n",
      "funModeling v.1.9.4 :)\n",
      "Examples and tutorials at livebook.datascienceheroes.com\n",
      " / Now in Spanish: librovivodecienciadedatos.ai\n",
      "\n"
     ]
    }
   ],
   "source": [
    "library(plyr)\n",
    "library(dplyr)\n",
    "library(ggplot2)\n",
    "library(tidyverse)\n",
    "library(benford.analysis)\n",
    "library(rcompanion)\n",
    "library(funModeling)"
   ]
  },
  {
   "cell_type": "markdown",
   "metadata": {},
   "source": [
    "\n",
    "Verideki varsa Eksik Gözlemlerin Silinmesi."
   ]
  },
  {
   "cell_type": "code",
   "execution_count": 3,
   "metadata": {},
   "outputs": [
    {
     "name": "stderr",
     "output_type": "stream",
     "text": [
      "\n",
      "\u001b[36m--\u001b[39m \u001b[1m\u001b[1mColumn specification\u001b[1m\u001b[22m \u001b[36m------------------------------------------------------------------------------------------------\u001b[39m\n",
      "cols(\n",
      "  .default = col_double(),\n",
      "  ProductCD = \u001b[31mcol_character()\u001b[39m,\n",
      "  card4 = \u001b[31mcol_character()\u001b[39m,\n",
      "  card6 = \u001b[31mcol_character()\u001b[39m,\n",
      "  P_emaildomain = \u001b[31mcol_character()\u001b[39m,\n",
      "  R_emaildomain = \u001b[31mcol_character()\u001b[39m,\n",
      "  M1 = \u001b[33mcol_logical()\u001b[39m,\n",
      "  M2 = \u001b[33mcol_logical()\u001b[39m,\n",
      "  M3 = \u001b[33mcol_logical()\u001b[39m,\n",
      "  M4 = \u001b[31mcol_character()\u001b[39m,\n",
      "  M5 = \u001b[33mcol_logical()\u001b[39m,\n",
      "  M6 = \u001b[33mcol_logical()\u001b[39m,\n",
      "  M7 = \u001b[33mcol_logical()\u001b[39m,\n",
      "  M8 = \u001b[33mcol_logical()\u001b[39m,\n",
      "  M9 = \u001b[33mcol_logical()\u001b[39m\n",
      ")\n",
      "\u001b[36mi\u001b[39m Use \u001b[30m\u001b[47m\u001b[30m\u001b[47m`spec()`\u001b[47m\u001b[30m\u001b[49m\u001b[39m for the full column specifications.\n",
      "\n",
      "\n"
     ]
    }
   ],
   "source": [
    "\n",
    "\n",
    "setwd(\"C:/Users/eceti/Desktop\")\n",
    "\n",
    "data<- read_csv(\"train_transaction.csv\")"
   ]
  },
  {
   "cell_type": "code",
   "execution_count": 4,
   "metadata": {},
   "outputs": [
    {
     "data": {
      "text/html": [
       "<style>\n",
       ".list-inline {list-style: none; margin:0; padding: 0}\n",
       ".list-inline>li {display: inline-block}\n",
       ".list-inline>li:not(:last-child)::after {content: \"\\00b7\"; padding: 0 .5ex}\n",
       "</style>\n",
       "<ol class=list-inline><li>590540</li><li>394</li></ol>\n"
      ],
      "text/latex": [
       "\\begin{enumerate*}\n",
       "\\item 590540\n",
       "\\item 394\n",
       "\\end{enumerate*}\n"
      ],
      "text/markdown": [
       "1. 590540\n",
       "2. 394\n",
       "\n",
       "\n"
      ],
      "text/plain": [
       "[1] 590540    394"
      ]
     },
     "metadata": {},
     "output_type": "display_data"
    }
   ],
   "source": [
    "dim(data)"
   ]
  },
  {
   "cell_type": "markdown",
   "metadata": {},
   "source": [
    "Veride Varsa eksik değer temizlemek."
   ]
  },
  {
   "cell_type": "code",
   "execution_count": 5,
   "metadata": {},
   "outputs": [],
   "source": [
    "#colSums(is.na(data))\n",
    "\n",
    "#na.omit(data)"
   ]
  },
  {
   "cell_type": "markdown",
   "metadata": {},
   "source": [
    "Popülasyondan örneklem çekimi."
   ]
  },
  {
   "cell_type": "code",
   "execution_count": 6,
   "metadata": {},
   "outputs": [],
   "source": [
    "set.seed(2021)\n",
    "\n",
    "df<-sample_n(data, 100000)"
   ]
  },
  {
   "cell_type": "markdown",
   "metadata": {},
   "source": [
    "Veriyi indexlemek."
   ]
  },
  {
   "cell_type": "code",
   "execution_count": 7,
   "metadata": {},
   "outputs": [],
   "source": [
    "index<- c(1:100000)\n",
    "\n",
    "df$index<-index"
   ]
  },
  {
   "cell_type": "markdown",
   "metadata": {},
   "source": [
    "İlgili Featureları alınıyor."
   ]
  },
  {
   "cell_type": "code",
   "execution_count": 8,
   "metadata": {},
   "outputs": [],
   "source": [
    "df<-df[c(\"index\",\"TransactionAmt\",\"TransactionID\",\"TransactionDT\",\"ProductCD\",\"card1\",\"card2\",\"card3\",\"card4\",\"card5\" ,\"card6\")]"
   ]
  },
  {
   "cell_type": "markdown",
   "metadata": {},
   "source": [
    "\n",
    "TransactionDT: timedelta from a given reference datetime (not an actual timestamp)\n",
    "TransactionAMT: transaction payment amount in USD\n",
    "ProductCD: product code, the product for each transaction\n",
    "card1 - card6: payment card information, such as card type, card category, issue bank.\n",
    "\n",
    "Veriyi Tanıyalım.\n"
   ]
  },
  {
   "cell_type": "code",
   "execution_count": 9,
   "metadata": {},
   "outputs": [
    {
     "name": "stdout",
     "output_type": "stream",
     "text": [
      "Rows: 100,000\n",
      "Columns: 11\n",
      "$ index          \u001b[3m\u001b[90m<int>\u001b[39m\u001b[23m 1, 2, 3, 4, 5, 6, 7, 8, 9, 10, 11, 12, 13, 14, 15, 1...\n",
      "$ TransactionAmt \u001b[3m\u001b[90m<dbl>\u001b[39m\u001b[23m 107.950, 28.957, 92.950, 159.950, 87.950, 159.950, 2...\n",
      "$ TransactionID  \u001b[3m\u001b[90m<dbl>\u001b[39m\u001b[23m 3431581, 3426179, 3201085, 3568142, 3310925, 3067274...\n",
      "$ TransactionDT  \u001b[3m\u001b[90m<dbl>\u001b[39m\u001b[23m 11306966, 11128301, 4987680, 15520904, 8018026, 1727...\n",
      "$ ProductCD      \u001b[3m\u001b[90m<chr>\u001b[39m\u001b[23m \"W\", \"C\", \"W\", \"W\", \"W\", \"W\", \"W\", \"W\", \"W\", \"W\", \"W...\n",
      "$ card1          \u001b[3m\u001b[90m<dbl>\u001b[39m\u001b[23m 11919, 9633, 2542, 12544, 11207, 10112, 13809, 11465...\n",
      "$ card2          \u001b[3m\u001b[90m<dbl>\u001b[39m\u001b[23m 170, 130, 321, 321, 361, 360, 583, 360, 111, 268, 55...\n",
      "$ card3          \u001b[3m\u001b[90m<dbl>\u001b[39m\u001b[23m 150, 185, 150, 150, 150, 150, 150, 150, 150, 150, 15...\n",
      "$ card4          \u001b[3m\u001b[90m<chr>\u001b[39m\u001b[23m \"mastercard\", \"visa\", \"visa\", \"visa\", \"visa\", \"visa\"...\n",
      "$ card5          \u001b[3m\u001b[90m<dbl>\u001b[39m\u001b[23m 224, 138, 226, 226, 226, 166, 226, 166, 226, 166, 22...\n",
      "$ card6          \u001b[3m\u001b[90m<chr>\u001b[39m\u001b[23m \"debit\", \"debit\", \"debit\", \"debit\", \"debit\", \"debit\"...\n"
     ]
    }
   ],
   "source": [
    "glimpse(df)"
   ]
  },
  {
   "cell_type": "markdown",
   "metadata": {},
   "source": [
    "\n",
    "Verinin istatistiksel özellikleri"
   ]
  },
  {
   "cell_type": "code",
   "execution_count": 10,
   "metadata": {},
   "outputs": [
    {
     "data": {
      "text/plain": [
       "     index        TransactionAmt     TransactionID     TransactionDT     \n",
       " Min.   :     1   Min.   :    0.42   Min.   :2987002   Min.   :   86469  \n",
       " 1st Qu.: 25001   1st Qu.:   42.95   1st Qu.:3135162   1st Qu.: 3035191  \n",
       " Median : 50001   Median :   68.95   Median :3283396   Median : 7326203  \n",
       " Mean   : 50001   Mean   :  135.11   Mean   :3282711   Mean   : 7384678  \n",
       " 3rd Qu.: 75000   3rd Qu.:  125.00   3rd Qu.:3430270   3rd Qu.:11281044  \n",
       " Max.   :100000   Max.   :31937.39   Max.   :3577536   Max.   :15811049  \n",
       "                                                                         \n",
       "  ProductCD             card1           card2           card3      \n",
       " Length:100000      Min.   : 1004   Min.   :100.0   Min.   :100.0  \n",
       " Class :character   1st Qu.: 6019   1st Qu.:215.0   1st Qu.:150.0  \n",
       " Mode  :character   Median : 9681   Median :361.0   Median :150.0  \n",
       "                    Mean   : 9899   Mean   :362.8   Mean   :153.2  \n",
       "                    3rd Qu.:14182   3rd Qu.:512.0   3rd Qu.:150.0  \n",
       "                    Max.   :18395   Max.   :600.0   Max.   :229.0  \n",
       "                                    NA's   :1515    NA's   :262    \n",
       "    card4               card5          card6          \n",
       " Length:100000      Min.   :100.0   Length:100000     \n",
       " Class :character   1st Qu.:166.0   Class :character  \n",
       " Mode  :character   Median :226.0   Mode  :character  \n",
       "                    Mean   :199.4                     \n",
       "                    3rd Qu.:226.0                     \n",
       "                    Max.   :237.0                     \n",
       "                    NA's   :716                       "
      ]
     },
     "metadata": {},
     "output_type": "display_data"
    },
    {
     "data": {
      "text/html": [
       "<table>\n",
       "<caption>A data.frame: 8 × 16</caption>\n",
       "<thead>\n",
       "\t<tr><th scope=col>variable</th><th scope=col>mean</th><th scope=col>std_dev</th><th scope=col>variation_coef</th><th scope=col>p_01</th><th scope=col>p_05</th><th scope=col>p_25</th><th scope=col>p_50</th><th scope=col>p_75</th><th scope=col>p_95</th><th scope=col>p_99</th><th scope=col>skewness</th><th scope=col>kurtosis</th><th scope=col>iqr</th><th scope=col>range_98</th><th scope=col>range_80</th></tr>\n",
       "\t<tr><th scope=col>&lt;chr&gt;</th><th scope=col>&lt;dbl&gt;</th><th scope=col>&lt;dbl&gt;</th><th scope=col>&lt;dbl&gt;</th><th scope=col>&lt;dbl&gt;</th><th scope=col>&lt;dbl&gt;</th><th scope=col>&lt;dbl&gt;</th><th scope=col>&lt;dbl&gt;</th><th scope=col>&lt;dbl&gt;</th><th scope=col>&lt;dbl&gt;</th><th scope=col>&lt;dbl&gt;</th><th scope=col>&lt;dbl&gt;</th><th scope=col>&lt;dbl&gt;</th><th scope=col>&lt;dbl&gt;</th><th scope=col>&lt;chr&gt;</th><th scope=col>&lt;chr&gt;</th></tr>\n",
       "</thead>\n",
       "<tbody>\n",
       "\t<tr><td>index         </td><td>  50000.5000</td><td>2.886766e+04</td><td>0.57734738</td><td>   1000.990</td><td>   5000.950</td><td>  25000.75</td><td>  50000.50</td><td>   75000.25</td><td>   95000.05</td><td>   99000.01</td><td> 0.000000000</td><td>   1.800000</td><td>  49999.50</td><td>[1000.99, 99000.01]     </td><td>[10000.9, 90000.1]     </td></tr>\n",
       "\t<tr><td>TransactionAmt</td><td>    135.1070</td><td>2.514519e+02</td><td>1.86113214</td><td>      9.244</td><td>     20.059</td><td>     42.95</td><td>     68.95</td><td>     125.00</td><td>     441.00</td><td>    1104.00</td><td>25.644783605</td><td>2613.692877</td><td>     82.05</td><td>[9.244, 1104]           </td><td>[25.95, 274.95]        </td></tr>\n",
       "\t<tr><td>TransactionID </td><td>3282711.0541</td><td>1.705281e+05</td><td>0.05194734</td><td>2992576.870</td><td>3016551.250</td><td>3135161.50</td><td>3283395.50</td><td> 3430270.50</td><td> 3547968.05</td><td> 3571779.27</td><td>-0.004578823</td><td>   1.801022</td><td> 295109.00</td><td>[2992576.87, 3571779.27]</td><td>[3046044.8, 3518768.3] </td></tr>\n",
       "\t<tr><td>TransactionDT </td><td>7384677.5775</td><td>4.618437e+06</td><td>0.62540803</td><td> 178351.720</td><td> 752299.400</td><td>3035191.00</td><td>7326203.00</td><td>11281044.25</td><td>14857114.05</td><td>15632835.49</td><td> 0.126792979</td><td>   1.770795</td><td>8245853.25</td><td>[178351.72, 15632835.49]</td><td>[1360940.8, 13996031.8]</td></tr>\n",
       "\t<tr><td>card1         </td><td>   9899.1494</td><td>4.899049e+03</td><td>0.49489598</td><td>   1333.000</td><td>   2039.000</td><td>   6019.00</td><td>   9681.00</td><td>   14182.00</td><td>   17303.00</td><td>   18227.00</td><td>-0.042388668</td><td>   1.865167</td><td>   8163.00</td><td>[1333, 18227]           </td><td>[2803, 16582.1]        </td></tr>\n",
       "\t<tr><td>card2         </td><td>    362.8312</td><td>1.576569e+02</td><td>0.43451849</td><td>    100.000</td><td>    111.000</td><td>    215.00</td><td>    361.00</td><td>     512.00</td><td>     567.00</td><td>     583.00</td><td>-0.201670294</td><td>   1.667445</td><td>    297.00</td><td>[100, 583]              </td><td>[112, 555]             </td></tr>\n",
       "\t<tr><td>card3         </td><td>    153.2025</td><td>1.128167e+01</td><td>0.07363894</td><td>    144.000</td><td>    150.000</td><td>    150.00</td><td>    150.00</td><td>     150.00</td><td>     185.00</td><td>     185.00</td><td> 2.050731597</td><td>   9.298166</td><td>      0.00</td><td>[144, 185]              </td><td>[150, 150]             </td></tr>\n",
       "\t<tr><td>card5         </td><td>    199.4046</td><td>4.115139e+01</td><td>0.20637138</td><td>    102.000</td><td>    102.000</td><td>    166.00</td><td>    226.00</td><td>     226.00</td><td>     226.00</td><td>     226.00</td><td>-1.231808009</td><td>   2.973515</td><td>     60.00</td><td>[102, 226]              </td><td>[126, 226]             </td></tr>\n",
       "</tbody>\n",
       "</table>\n"
      ],
      "text/latex": [
       "A data.frame: 8 × 16\n",
       "\\begin{tabular}{llllllllllllllll}\n",
       " variable & mean & std\\_dev & variation\\_coef & p\\_01 & p\\_05 & p\\_25 & p\\_50 & p\\_75 & p\\_95 & p\\_99 & skewness & kurtosis & iqr & range\\_98 & range\\_80\\\\\n",
       " <chr> & <dbl> & <dbl> & <dbl> & <dbl> & <dbl> & <dbl> & <dbl> & <dbl> & <dbl> & <dbl> & <dbl> & <dbl> & <dbl> & <chr> & <chr>\\\\\n",
       "\\hline\n",
       "\t index          &   50000.5000 & 2.886766e+04 & 0.57734738 &    1000.990 &    5000.950 &   25000.75 &   50000.50 &    75000.25 &    95000.05 &    99000.01 &  0.000000000 &    1.800000 &   49999.50 & {[}1000.99, 99000.01{]}      & {[}10000.9, 90000.1{]}     \\\\\n",
       "\t TransactionAmt &     135.1070 & 2.514519e+02 & 1.86113214 &       9.244 &      20.059 &      42.95 &      68.95 &      125.00 &      441.00 &     1104.00 & 25.644783605 & 2613.692877 &      82.05 & {[}9.244, 1104{]}            & {[}25.95, 274.95{]}        \\\\\n",
       "\t TransactionID  & 3282711.0541 & 1.705281e+05 & 0.05194734 & 2992576.870 & 3016551.250 & 3135161.50 & 3283395.50 &  3430270.50 &  3547968.05 &  3571779.27 & -0.004578823 &    1.801022 &  295109.00 & {[}2992576.87, 3571779.27{]} & {[}3046044.8, 3518768.3{]} \\\\\n",
       "\t TransactionDT  & 7384677.5775 & 4.618437e+06 & 0.62540803 &  178351.720 &  752299.400 & 3035191.00 & 7326203.00 & 11281044.25 & 14857114.05 & 15632835.49 &  0.126792979 &    1.770795 & 8245853.25 & {[}178351.72, 15632835.49{]} & {[}1360940.8, 13996031.8{]}\\\\\n",
       "\t card1          &    9899.1494 & 4.899049e+03 & 0.49489598 &    1333.000 &    2039.000 &    6019.00 &    9681.00 &    14182.00 &    17303.00 &    18227.00 & -0.042388668 &    1.865167 &    8163.00 & {[}1333, 18227{]}            & {[}2803, 16582.1{]}        \\\\\n",
       "\t card2          &     362.8312 & 1.576569e+02 & 0.43451849 &     100.000 &     111.000 &     215.00 &     361.00 &      512.00 &      567.00 &      583.00 & -0.201670294 &    1.667445 &     297.00 & {[}100, 583{]}               & {[}112, 555{]}             \\\\\n",
       "\t card3          &     153.2025 & 1.128167e+01 & 0.07363894 &     144.000 &     150.000 &     150.00 &     150.00 &      150.00 &      185.00 &      185.00 &  2.050731597 &    9.298166 &       0.00 & {[}144, 185{]}               & {[}150, 150{]}             \\\\\n",
       "\t card5          &     199.4046 & 4.115139e+01 & 0.20637138 &     102.000 &     102.000 &     166.00 &     226.00 &      226.00 &      226.00 &      226.00 & -1.231808009 &    2.973515 &      60.00 & {[}102, 226{]}               & {[}126, 226{]}             \\\\\n",
       "\\end{tabular}\n"
      ],
      "text/markdown": [
       "\n",
       "A data.frame: 8 × 16\n",
       "\n",
       "| variable &lt;chr&gt; | mean &lt;dbl&gt; | std_dev &lt;dbl&gt; | variation_coef &lt;dbl&gt; | p_01 &lt;dbl&gt; | p_05 &lt;dbl&gt; | p_25 &lt;dbl&gt; | p_50 &lt;dbl&gt; | p_75 &lt;dbl&gt; | p_95 &lt;dbl&gt; | p_99 &lt;dbl&gt; | skewness &lt;dbl&gt; | kurtosis &lt;dbl&gt; | iqr &lt;dbl&gt; | range_98 &lt;chr&gt; | range_80 &lt;chr&gt; |\n",
       "|---|---|---|---|---|---|---|---|---|---|---|---|---|---|---|---|\n",
       "| index          |   50000.5000 | 2.886766e+04 | 0.57734738 |    1000.990 |    5000.950 |   25000.75 |   50000.50 |    75000.25 |    95000.05 |    99000.01 |  0.000000000 |    1.800000 |   49999.50 | [1000.99, 99000.01]      | [10000.9, 90000.1]      |\n",
       "| TransactionAmt |     135.1070 | 2.514519e+02 | 1.86113214 |       9.244 |      20.059 |      42.95 |      68.95 |      125.00 |      441.00 |     1104.00 | 25.644783605 | 2613.692877 |      82.05 | [9.244, 1104]            | [25.95, 274.95]         |\n",
       "| TransactionID  | 3282711.0541 | 1.705281e+05 | 0.05194734 | 2992576.870 | 3016551.250 | 3135161.50 | 3283395.50 |  3430270.50 |  3547968.05 |  3571779.27 | -0.004578823 |    1.801022 |  295109.00 | [2992576.87, 3571779.27] | [3046044.8, 3518768.3]  |\n",
       "| TransactionDT  | 7384677.5775 | 4.618437e+06 | 0.62540803 |  178351.720 |  752299.400 | 3035191.00 | 7326203.00 | 11281044.25 | 14857114.05 | 15632835.49 |  0.126792979 |    1.770795 | 8245853.25 | [178351.72, 15632835.49] | [1360940.8, 13996031.8] |\n",
       "| card1          |    9899.1494 | 4.899049e+03 | 0.49489598 |    1333.000 |    2039.000 |    6019.00 |    9681.00 |    14182.00 |    17303.00 |    18227.00 | -0.042388668 |    1.865167 |    8163.00 | [1333, 18227]            | [2803, 16582.1]         |\n",
       "| card2          |     362.8312 | 1.576569e+02 | 0.43451849 |     100.000 |     111.000 |     215.00 |     361.00 |      512.00 |      567.00 |      583.00 | -0.201670294 |    1.667445 |     297.00 | [100, 583]               | [112, 555]              |\n",
       "| card3          |     153.2025 | 1.128167e+01 | 0.07363894 |     144.000 |     150.000 |     150.00 |     150.00 |      150.00 |      185.00 |      185.00 |  2.050731597 |    9.298166 |       0.00 | [144, 185]               | [150, 150]              |\n",
       "| card5          |     199.4046 | 4.115139e+01 | 0.20637138 |     102.000 |     102.000 |     166.00 |     226.00 |      226.00 |      226.00 |      226.00 | -1.231808009 |    2.973515 |      60.00 | [102, 226]               | [126, 226]              |\n",
       "\n"
      ],
      "text/plain": [
       "  variable       mean         std_dev      variation_coef p_01       \n",
       "1 index            50000.5000 2.886766e+04 0.57734738        1000.990\n",
       "2 TransactionAmt     135.1070 2.514519e+02 1.86113214           9.244\n",
       "3 TransactionID  3282711.0541 1.705281e+05 0.05194734     2992576.870\n",
       "4 TransactionDT  7384677.5775 4.618437e+06 0.62540803      178351.720\n",
       "5 card1             9899.1494 4.899049e+03 0.49489598        1333.000\n",
       "6 card2              362.8312 1.576569e+02 0.43451849         100.000\n",
       "7 card3              153.2025 1.128167e+01 0.07363894         144.000\n",
       "8 card5              199.4046 4.115139e+01 0.20637138         102.000\n",
       "  p_05        p_25       p_50       p_75        p_95        p_99       \n",
       "1    5000.950   25000.75   50000.50    75000.25    95000.05    99000.01\n",
       "2      20.059      42.95      68.95      125.00      441.00     1104.00\n",
       "3 3016551.250 3135161.50 3283395.50  3430270.50  3547968.05  3571779.27\n",
       "4  752299.400 3035191.00 7326203.00 11281044.25 14857114.05 15632835.49\n",
       "5    2039.000    6019.00    9681.00    14182.00    17303.00    18227.00\n",
       "6     111.000     215.00     361.00      512.00      567.00      583.00\n",
       "7     150.000     150.00     150.00      150.00      185.00      185.00\n",
       "8     102.000     166.00     226.00      226.00      226.00      226.00\n",
       "  skewness     kurtosis    iqr        range_98                \n",
       "1  0.000000000    1.800000   49999.50 [1000.99, 99000.01]     \n",
       "2 25.644783605 2613.692877      82.05 [9.244, 1104]           \n",
       "3 -0.004578823    1.801022  295109.00 [2992576.87, 3571779.27]\n",
       "4  0.126792979    1.770795 8245853.25 [178351.72, 15632835.49]\n",
       "5 -0.042388668    1.865167    8163.00 [1333, 18227]           \n",
       "6 -0.201670294    1.667445     297.00 [100, 583]              \n",
       "7  2.050731597    9.298166       0.00 [144, 185]              \n",
       "8 -1.231808009    2.973515      60.00 [102, 226]              \n",
       "  range_80               \n",
       "1 [10000.9, 90000.1]     \n",
       "2 [25.95, 274.95]        \n",
       "3 [3046044.8, 3518768.3] \n",
       "4 [1360940.8, 13996031.8]\n",
       "5 [2803, 16582.1]        \n",
       "6 [112, 555]             \n",
       "7 [150, 150]             \n",
       "8 [126, 226]             "
      ]
     },
     "metadata": {},
     "output_type": "display_data"
    }
   ],
   "source": [
    "summary(df)\n",
    "\n",
    "profiling_num(df)"
   ]
  },
  {
   "cell_type": "markdown",
   "metadata": {},
   "source": [
    "Verinin Görselleştirilmesi"
   ]
  },
  {
   "cell_type": "code",
   "execution_count": 11,
   "metadata": {},
   "outputs": [
    {
     "name": "stdout",
     "output_type": "stream",
     "text": [
      "  ProductCD frequency percentage cumulative_perc\n",
      "1         W     74475      74.47           74.47\n",
      "2         C     11555      11.55           86.02\n",
      "3         R      6464       6.46           92.48\n",
      "4         H      5560       5.56           98.04\n",
      "5         S      1946       1.95          100.00\n",
      "\n"
     ]
    },
    {
     "data": {
      "image/png": "[encoded data removed]",
      "text/plain": [
       "plot without title"
      ]
     },
     "metadata": {
      "image/png": {
       "height": 420,
       "width": 420
      }
     },
     "output_type": "display_data"
    },
    {
     "name": "stdout",
     "output_type": "stream",
     "text": [
      "             card4 frequency percentage cumulative_perc\n",
      "1             visa     65073      65.07           65.07\n",
      "2       mastercard     32159      32.16           97.23\n",
      "3 american express      1384       1.38           98.61\n",
      "4         discover      1121       1.12           99.73\n",
      "5             <NA>       263       0.26          100.00\n",
      "\n"
     ]
    },
    {
     "data": {
      "image/png": "[encoded data removed]",
      "text/plain": [
       "plot without title"
      ]
     },
     "metadata": {
      "image/png": {
       "height": 420,
       "width": 420
      }
     },
     "output_type": "display_data"
    },
    {
     "name": "stdout",
     "output_type": "stream",
     "text": [
      "            card6 frequency percentage cumulative_perc\n",
      "1           debit     74511      74.51           74.51\n",
      "2          credit     25218      25.22           99.73\n",
      "3            <NA>       263       0.26           99.99\n",
      "4 debit or credit         6       0.01          100.00\n",
      "5     charge card         2       0.00          100.00\n",
      "\n"
     ]
    },
    {
     "data": {
      "text/html": [
       "'Variables processed: ProductCD, card4, card6'"
      ],
      "text/latex": [
       "'Variables processed: ProductCD, card4, card6'"
      ],
      "text/markdown": [
       "'Variables processed: ProductCD, card4, card6'"
      ],
      "text/plain": [
       "[1] \"Variables processed: ProductCD, card4, card6\""
      ]
     },
     "metadata": {},
     "output_type": "display_data"
    },
    {
     "data": {
      "image/png": "[encoded data removed]",
      "text/plain": [
       "plot without title"
      ]
     },
     "metadata": {
      "image/png": {
       "height": 420,
       "width": 420
      }
     },
     "output_type": "display_data"
    }
   ],
   "source": [
    "freq(df)"
   ]
  },
  {
   "cell_type": "code",
   "execution_count": 12,
   "metadata": {},
   "outputs": [
    {
     "data": {
      "image/png": "[encoded data removed]",
      "text/plain": [
       "plot without title"
      ]
     },
     "metadata": {
      "image/png": {
       "height": 420,
       "width": 420
      }
     },
     "output_type": "display_data"
    }
   ],
   "source": [
    "plot_num(df)"
   ]
  },
  {
   "cell_type": "code",
   "execution_count": 13,
   "metadata": {
    "scrolled": true
   },
   "outputs": [
    {
     "data": {
      "text/html": [
       "<style>\n",
       ".list-inline {list-style: none; margin:0; padding: 0}\n",
       ".list-inline>li {display: inline-block}\n",
       ".list-inline>li:not(:last-child)::after {content: \"\\00b7\"; padding: 0 .5ex}\n",
       "</style>\n",
       "<ol class=list-inline><li>0.424</li><li>31937.391</li></ol>\n"
      ],
      "text/latex": [
       "\\begin{enumerate*}\n",
       "\\item 0.424\n",
       "\\item 31937.391\n",
       "\\end{enumerate*}\n"
      ],
      "text/markdown": [
       "1. 0.424\n",
       "2. 31937.391\n",
       "\n",
       "\n"
      ],
      "text/plain": [
       "[1]     0.424 31937.391"
      ]
     },
     "metadata": {},
     "output_type": "display_data"
    }
   ],
   "source": [
    "\n",
    "\n",
    "range(df$TransactionAmt)"
   ]
  },
  {
   "cell_type": "code",
   "execution_count": 14,
   "metadata": {},
   "outputs": [
    {
     "name": "stderr",
     "output_type": "stream",
     "text": [
      "Warning message:\n",
      "\"Removed 21066 rows containing non-finite values (stat_bin).\"\n",
      "Warning message:\n",
      "\"Removed 2 rows containing missing values (geom_bar).\"\n"
     ]
    },
    {
     "data": {
      "image/png": "[encoded data removed]",
      "text/plain": [
       "plot without title"
      ]
     },
     "metadata": {
      "image/png": {
       "height": 420,
       "width": 420
      }
     },
     "output_type": "display_data"
    }
   ],
   "source": [
    "ggplot(df, aes(x = TransactionAmt)) + geom_histogram(binwidth = 5) +\n",
    "    scale_x_continuous(breaks = seq(0, 155, 5), lim = c(0, 155))\n"
   ]
  },
  {
   "cell_type": "markdown",
   "metadata": {},
   "source": [
    "Benford"
   ]
  },
  {
   "cell_type": "code",
   "execution_count": 15,
   "metadata": {},
   "outputs": [
    {
     "data": {
      "image/png": "[encoded data removed]",
      "text/plain": [
       "Plot with title \"Histogram of lead_digit\""
      ]
     },
     "metadata": {
      "image/png": {
       "height": 420,
       "width": 420
      }
     },
     "output_type": "display_data"
    },
    {
     "data": {
      "image/png": "[encoded data removed]",
      "text/plain": [
       "Plot with title \"Legend \n",
       " Dataset: df$TransactionAmt\""
      ]
     },
     "metadata": {
      "image/png": {
       "height": 420,
       "width": 420
      }
     },
     "output_type": "display_data"
    }
   ],
   "source": [
    "lead_digit <- extract.digits(df$TransactionAmt, number.of.digits=1)\n",
    "lead_digit <- lead_digit[,2]\n",
    "hist(lead_digit, breaks=9)\n",
    "ben <- benford(df$TransactionAmt, number.of.digits=2)\n",
    "plot(ben)"
   ]
  },
  {
   "cell_type": "markdown",
   "metadata": {},
   "source": [
    "ilk 2 digiti sırasıyla 4 ve 9 olan transactionların normalden çok daha fazla olduğu gözlemleniyor."
   ]
  },
  {
   "cell_type": "markdown",
   "metadata": {},
   "source": [
    "\n",
    "49 ile başlayan gözlemleri veri setinden çekiyoruz ve raporlamaya hazır hale getiriyoruz."
   ]
  },
  {
   "cell_type": "code",
   "execution_count": 16,
   "metadata": {},
   "outputs": [
    {
     "data": {
      "text/html": [
       "<table>\n",
       "<caption>A data.frame: 3004 × 2</caption>\n",
       "<thead>\n",
       "\t<tr><th scope=col>index</th><th scope=col>TransactionAmt</th></tr>\n",
       "\t<tr><th scope=col>&lt;int&gt;</th><th scope=col>&lt;dbl&gt;</th></tr>\n",
       "</thead>\n",
       "<tbody>\n",
       "\t<tr><td>   9</td><td>49.00</td></tr>\n",
       "\t<tr><td>  60</td><td>49.00</td></tr>\n",
       "\t<tr><td> 105</td><td>49.00</td></tr>\n",
       "\t<tr><td> 171</td><td>49.00</td></tr>\n",
       "\t<tr><td> 181</td><td>49.00</td></tr>\n",
       "\t<tr><td> 184</td><td>49.00</td></tr>\n",
       "\t<tr><td> 186</td><td>49.00</td></tr>\n",
       "\t<tr><td> 228</td><td>49.00</td></tr>\n",
       "\t<tr><td> 342</td><td>49.00</td></tr>\n",
       "\t<tr><td> 390</td><td>49.00</td></tr>\n",
       "\t<tr><td> 468</td><td>49.00</td></tr>\n",
       "\t<tr><td> 476</td><td>49.00</td></tr>\n",
       "\t<tr><td> 508</td><td>49.00</td></tr>\n",
       "\t<tr><td> 526</td><td>49.00</td></tr>\n",
       "\t<tr><td> 669</td><td>49.00</td></tr>\n",
       "\t<tr><td> 675</td><td>49.00</td></tr>\n",
       "\t<tr><td> 688</td><td>49.00</td></tr>\n",
       "\t<tr><td> 709</td><td>49.00</td></tr>\n",
       "\t<tr><td> 739</td><td>49.00</td></tr>\n",
       "\t<tr><td> 741</td><td>49.00</td></tr>\n",
       "\t<tr><td> 742</td><td>49.00</td></tr>\n",
       "\t<tr><td> 853</td><td>49.00</td></tr>\n",
       "\t<tr><td> 854</td><td>49.95</td></tr>\n",
       "\t<tr><td> 867</td><td>49.00</td></tr>\n",
       "\t<tr><td> 882</td><td>49.00</td></tr>\n",
       "\t<tr><td> 978</td><td>49.00</td></tr>\n",
       "\t<tr><td> 998</td><td>49.00</td></tr>\n",
       "\t<tr><td>1049</td><td>49.00</td></tr>\n",
       "\t<tr><td>1051</td><td>49.00</td></tr>\n",
       "\t<tr><td>1056</td><td>49.00</td></tr>\n",
       "\t<tr><td>...</td><td>...</td></tr>\n",
       "\t<tr><td>99121</td><td>49.00</td></tr>\n",
       "\t<tr><td>99125</td><td>49.00</td></tr>\n",
       "\t<tr><td>99131</td><td>49.47</td></tr>\n",
       "\t<tr><td>99180</td><td>49.00</td></tr>\n",
       "\t<tr><td>99217</td><td>49.00</td></tr>\n",
       "\t<tr><td>99234</td><td>49.95</td></tr>\n",
       "\t<tr><td>99237</td><td>49.00</td></tr>\n",
       "\t<tr><td>99246</td><td>49.00</td></tr>\n",
       "\t<tr><td>99277</td><td>49.00</td></tr>\n",
       "\t<tr><td>99303</td><td>49.00</td></tr>\n",
       "\t<tr><td>99324</td><td>49.00</td></tr>\n",
       "\t<tr><td>99339</td><td>49.00</td></tr>\n",
       "\t<tr><td>99356</td><td>49.77</td></tr>\n",
       "\t<tr><td>99376</td><td>49.00</td></tr>\n",
       "\t<tr><td>99397</td><td>49.00</td></tr>\n",
       "\t<tr><td>99410</td><td>49.00</td></tr>\n",
       "\t<tr><td>99420</td><td>49.00</td></tr>\n",
       "\t<tr><td>99454</td><td>49.00</td></tr>\n",
       "\t<tr><td>99473</td><td>49.00</td></tr>\n",
       "\t<tr><td>99502</td><td>49.00</td></tr>\n",
       "\t<tr><td>99507</td><td>49.00</td></tr>\n",
       "\t<tr><td>99545</td><td>49.00</td></tr>\n",
       "\t<tr><td>99629</td><td>49.00</td></tr>\n",
       "\t<tr><td>99656</td><td>49.50</td></tr>\n",
       "\t<tr><td>99700</td><td>49.00</td></tr>\n",
       "\t<tr><td>99747</td><td>49.00</td></tr>\n",
       "\t<tr><td>99871</td><td>49.00</td></tr>\n",
       "\t<tr><td>99945</td><td>49.00</td></tr>\n",
       "\t<tr><td>99949</td><td>49.00</td></tr>\n",
       "\t<tr><td>99987</td><td>49.00</td></tr>\n",
       "</tbody>\n",
       "</table>\n"
      ],
      "text/latex": [
       "A data.frame: 3004 × 2\n",
       "\\begin{tabular}{ll}\n",
       " index & TransactionAmt\\\\\n",
       " <int> & <dbl>\\\\\n",
       "\\hline\n",
       "\t    9 & 49.00\\\\\n",
       "\t   60 & 49.00\\\\\n",
       "\t  105 & 49.00\\\\\n",
       "\t  171 & 49.00\\\\\n",
       "\t  181 & 49.00\\\\\n",
       "\t  184 & 49.00\\\\\n",
       "\t  186 & 49.00\\\\\n",
       "\t  228 & 49.00\\\\\n",
       "\t  342 & 49.00\\\\\n",
       "\t  390 & 49.00\\\\\n",
       "\t  468 & 49.00\\\\\n",
       "\t  476 & 49.00\\\\\n",
       "\t  508 & 49.00\\\\\n",
       "\t  526 & 49.00\\\\\n",
       "\t  669 & 49.00\\\\\n",
       "\t  675 & 49.00\\\\\n",
       "\t  688 & 49.00\\\\\n",
       "\t  709 & 49.00\\\\\n",
       "\t  739 & 49.00\\\\\n",
       "\t  741 & 49.00\\\\\n",
       "\t  742 & 49.00\\\\\n",
       "\t  853 & 49.00\\\\\n",
       "\t  854 & 49.95\\\\\n",
       "\t  867 & 49.00\\\\\n",
       "\t  882 & 49.00\\\\\n",
       "\t  978 & 49.00\\\\\n",
       "\t  998 & 49.00\\\\\n",
       "\t 1049 & 49.00\\\\\n",
       "\t 1051 & 49.00\\\\\n",
       "\t 1056 & 49.00\\\\\n",
       "\t ... & ...\\\\\n",
       "\t 99121 & 49.00\\\\\n",
       "\t 99125 & 49.00\\\\\n",
       "\t 99131 & 49.47\\\\\n",
       "\t 99180 & 49.00\\\\\n",
       "\t 99217 & 49.00\\\\\n",
       "\t 99234 & 49.95\\\\\n",
       "\t 99237 & 49.00\\\\\n",
       "\t 99246 & 49.00\\\\\n",
       "\t 99277 & 49.00\\\\\n",
       "\t 99303 & 49.00\\\\\n",
       "\t 99324 & 49.00\\\\\n",
       "\t 99339 & 49.00\\\\\n",
       "\t 99356 & 49.77\\\\\n",
       "\t 99376 & 49.00\\\\\n",
       "\t 99397 & 49.00\\\\\n",
       "\t 99410 & 49.00\\\\\n",
       "\t 99420 & 49.00\\\\\n",
       "\t 99454 & 49.00\\\\\n",
       "\t 99473 & 49.00\\\\\n",
       "\t 99502 & 49.00\\\\\n",
       "\t 99507 & 49.00\\\\\n",
       "\t 99545 & 49.00\\\\\n",
       "\t 99629 & 49.00\\\\\n",
       "\t 99656 & 49.50\\\\\n",
       "\t 99700 & 49.00\\\\\n",
       "\t 99747 & 49.00\\\\\n",
       "\t 99871 & 49.00\\\\\n",
       "\t 99945 & 49.00\\\\\n",
       "\t 99949 & 49.00\\\\\n",
       "\t 99987 & 49.00\\\\\n",
       "\\end{tabular}\n"
      ],
      "text/markdown": [
       "\n",
       "A data.frame: 3004 × 2\n",
       "\n",
       "| index &lt;int&gt; | TransactionAmt &lt;dbl&gt; |\n",
       "|---|---|\n",
       "|    9 | 49.00 |\n",
       "|   60 | 49.00 |\n",
       "|  105 | 49.00 |\n",
       "|  171 | 49.00 |\n",
       "|  181 | 49.00 |\n",
       "|  184 | 49.00 |\n",
       "|  186 | 49.00 |\n",
       "|  228 | 49.00 |\n",
       "|  342 | 49.00 |\n",
       "|  390 | 49.00 |\n",
       "|  468 | 49.00 |\n",
       "|  476 | 49.00 |\n",
       "|  508 | 49.00 |\n",
       "|  526 | 49.00 |\n",
       "|  669 | 49.00 |\n",
       "|  675 | 49.00 |\n",
       "|  688 | 49.00 |\n",
       "|  709 | 49.00 |\n",
       "|  739 | 49.00 |\n",
       "|  741 | 49.00 |\n",
       "|  742 | 49.00 |\n",
       "|  853 | 49.00 |\n",
       "|  854 | 49.95 |\n",
       "|  867 | 49.00 |\n",
       "|  882 | 49.00 |\n",
       "|  978 | 49.00 |\n",
       "|  998 | 49.00 |\n",
       "| 1049 | 49.00 |\n",
       "| 1051 | 49.00 |\n",
       "| 1056 | 49.00 |\n",
       "| ... | ... |\n",
       "| 99121 | 49.00 |\n",
       "| 99125 | 49.00 |\n",
       "| 99131 | 49.47 |\n",
       "| 99180 | 49.00 |\n",
       "| 99217 | 49.00 |\n",
       "| 99234 | 49.95 |\n",
       "| 99237 | 49.00 |\n",
       "| 99246 | 49.00 |\n",
       "| 99277 | 49.00 |\n",
       "| 99303 | 49.00 |\n",
       "| 99324 | 49.00 |\n",
       "| 99339 | 49.00 |\n",
       "| 99356 | 49.77 |\n",
       "| 99376 | 49.00 |\n",
       "| 99397 | 49.00 |\n",
       "| 99410 | 49.00 |\n",
       "| 99420 | 49.00 |\n",
       "| 99454 | 49.00 |\n",
       "| 99473 | 49.00 |\n",
       "| 99502 | 49.00 |\n",
       "| 99507 | 49.00 |\n",
       "| 99545 | 49.00 |\n",
       "| 99629 | 49.00 |\n",
       "| 99656 | 49.50 |\n",
       "| 99700 | 49.00 |\n",
       "| 99747 | 49.00 |\n",
       "| 99871 | 49.00 |\n",
       "| 99945 | 49.00 |\n",
       "| 99949 | 49.00 |\n",
       "| 99987 | 49.00 |\n",
       "\n"
      ],
      "text/plain": [
       "     index TransactionAmt\n",
       "1       9  49.00         \n",
       "2      60  49.00         \n",
       "3     105  49.00         \n",
       "4     171  49.00         \n",
       "5     181  49.00         \n",
       "6     184  49.00         \n",
       "7     186  49.00         \n",
       "8     228  49.00         \n",
       "9     342  49.00         \n",
       "10    390  49.00         \n",
       "11    468  49.00         \n",
       "12    476  49.00         \n",
       "13    508  49.00         \n",
       "14    526  49.00         \n",
       "15    669  49.00         \n",
       "16    675  49.00         \n",
       "17    688  49.00         \n",
       "18    709  49.00         \n",
       "19    739  49.00         \n",
       "20    741  49.00         \n",
       "21    742  49.00         \n",
       "22    853  49.00         \n",
       "23    854  49.95         \n",
       "24    867  49.00         \n",
       "25    882  49.00         \n",
       "26    978  49.00         \n",
       "27    998  49.00         \n",
       "28   1049  49.00         \n",
       "29   1051  49.00         \n",
       "30   1056  49.00         \n",
       "...  ...   ...           \n",
       "2975 99121 49.00         \n",
       "2976 99125 49.00         \n",
       "2977 99131 49.47         \n",
       "2978 99180 49.00         \n",
       "2979 99217 49.00         \n",
       "2980 99234 49.95         \n",
       "2981 99237 49.00         \n",
       "2982 99246 49.00         \n",
       "2983 99277 49.00         \n",
       "2984 99303 49.00         \n",
       "2985 99324 49.00         \n",
       "2986 99339 49.00         \n",
       "2987 99356 49.77         \n",
       "2988 99376 49.00         \n",
       "2989 99397 49.00         \n",
       "2990 99410 49.00         \n",
       "2991 99420 49.00         \n",
       "2992 99454 49.00         \n",
       "2993 99473 49.00         \n",
       "2994 99502 49.00         \n",
       "2995 99507 49.00         \n",
       "2996 99545 49.00         \n",
       "2997 99629 49.00         \n",
       "2998 99656 49.50         \n",
       "2999 99700 49.00         \n",
       "3000 99747 49.00         \n",
       "3001 99871 49.00         \n",
       "3002 99945 49.00         \n",
       "3003 99949 49.00         \n",
       "3004 99987 49.00         "
      ]
     },
     "metadata": {},
     "output_type": "display_data"
    }
   ],
   "source": [
    "lead_digit <- extract.digits(df$TransactionAmt, number.of.digits=2)\n",
    "customer_check <- cbind(df,lead_digit) \n",
    "\n",
    "PossibleFraud<-customer_check[customer_check$data.digits ==49 ,] %>%\n",
    "  arrange(index) %>% \n",
    "  select(index, TransactionAmt)\n",
    "\n",
    "PossibleFraud"
   ]
  }
 ],
 "metadata": {
  "kernelspec": {
   "display_name": "R 4.0.3",
   "language": "R",
   "name": "ir35"
  },
  "language_info": {
   "codemirror_mode": "r",
   "file_extension": ".r",
   "mimetype": "text/x-r-source",
   "name": "R",
   "pygments_lexer": "r",
   "version": "4.0.3"
  }
 },
 "nbformat": 4,
 "nbformat_minor": 4
}
